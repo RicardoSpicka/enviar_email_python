{
 "cells": [
  {
   "cell_type": "code",
   "execution_count": 1,
   "metadata": {},
   "outputs": [],
   "source": [
    "import smtplib\n",
    "# Trabalhando com mimetypes\n",
    "from email.mime.multipart import MIMEMultipart\n",
    "from email.mime.text import MIMEText\n",
    "from email.mime.base import MIMEBase\n",
    "from email import encoders\n",
    "import csv"
   ]
  },
  {
   "cell_type": "code",
   "execution_count": 2,
   "metadata": {},
   "outputs": [
    {
     "data": {
      "text/plain": [
       "(235, b'2.7.0 Accepted')"
      ]
     },
     "execution_count": 2,
     "metadata": {},
     "output_type": "execute_result"
    }
   ],
   "source": [
    "# Startar o servidor\n",
    "host=\"smtp.gmail.com\"\n",
    "port=\"587\"\n",
    "login=\"ricco.spicka@gmail.com\"\n",
    "senha=\"fslnooktwwklhfid\"\n",
    "\n",
    "s = smtplib.SMTP(host, port)\n",
    "s.ehlo()\n",
    "s.starttls()\n",
    "s.login(login, senha)"
   ]
  },
  {
   "cell_type": "code",
   "execution_count": 3,
   "metadata": {},
   "outputs": [
    {
     "name": "stdout",
     "output_type": "stream",
     "text": [
      "Email para: Software -  da SuperSoft -  aline.marketing@supersoft.com.br enviado com sucesso\n",
      "Email para: CerÃ¢mica -  da Delta Cer&acirc;mica -  selecao@deltaceramica.com.br enviado com sucesso\n",
      "Email para: CerÃ¢mica -  da Delta Cer&acirc;mica -  selecao1@deltaceramica.com.br enviado com sucesso\n"
     ]
    }
   ],
   "source": [
    "with open(\"emails.csv\",\"r\") as arquivo:\n",
    "    arquivo_csv = csv.reader(arquivo, delimiter=\",\")\n",
    "    for i, linha in enumerate(arquivo_csv):     \n",
    "        nomeDest = linha[0]\n",
    "        empresaDest = linha[1]\n",
    "        emailDest = linha[2]\n",
    "\n",
    "        # Construindo a mensagem\n",
    "        corpo = \"\"\"Aos cuidados do Depto RH / Gerencia de TI<br> <br>Olá, como vai?. Espero que bem.<br><br>\n",
    "        \n",
    "            Escrevo para declarar meu interesse em fazer parte da equipe de tecnologia \"\"\" + empresaDest + \"\"\".<br><br>  \n",
    "\n",
    "            Sou formado em Tecnologia de Analise e Desenvolvimento de Sistemas (Faculdades Anhanguera - 2020) e Bacharel em Engenharia da Computação (UNIVESP - 2022). Tenho mais de 15 anos atuando na área de tecnologia com Hardware, HelpDesk, Análise de Sistemas, Desenvolvimento de Sistemas e Desenvolvimento  Web e Ccnsigo transitar facilmente nessas áreas de atuação.<br><br>\n",
    "\n",
    "            Estou fazendo curso de Formação em Tecnologia - Desenvolvedor Web Full Stack na DNC e momento estou concluindo o módulo de Front-End, já conseguindo fazer bons projetos. Sou um eterno estudante. Estou sempre estudando e aprendendo, sempre me atualizando. Tenho muita facilidade de aprender e me adaptar e não temo novos desafios. <br><br>\n",
    "\n",
    "            Acredito que minhas habilidades e experiências podem agregar valor significativo à empresa. Se possível, eu adoraria agendar uma conversa ou entrevista para discutir quaisquer oportunidades em potencial que você possa ter.<br><br>\n",
    "            \n",
    "            Meu Linkedin é <a href=\"https://www.linkedin.com/in/ricardo-spicka-b79049160/\"> https://www.linkedin.com/in/ricardo-spicka </a><br>\n",
    "            Aqui tem também meu GitHub com alguns projetos realizados além de tarefas e desafios do curso de Dev FullStack que estou realizando. <a href=\"https://github.com/RicardoSpicka?tab=repositories\"> https://github.com/RicardoSpicka </a><br><br>\n",
    "            Segue anexo meu Curriculum Vitae.<br><br>\n",
    "            Agradeço atencipadamente. <br>\n",
    "            Atenciosamente, <br>\n",
    "            Ricardo Spicka\n",
    "            \"\"\"\n",
    "        email_msg = MIMEMultipart()\n",
    "        email_msg['From'] = login\n",
    "        email_msg['To'] = emailDest\n",
    "        email_msg['Subject'] = \"Oportunidade de Emprego Área de Tecnologia\"\n",
    "        email_msg.attach(MIMEText(corpo, 'html'))\n",
    "        # Abrir o arquivo em modo leitura Binário\n",
    "        caminho = \"E://OneDrive/Documentos/Curriculuns/Curriculun_Ricardo_Spicka_2023.pdf\"\n",
    "        attchment = open(caminho, \"rb\")\n",
    "        # Ler o arquivo no modo binário e codificar para base 64 bits\n",
    "        att = MIMEBase('application', 'octet-stream')\n",
    "        att.set_payload(attchment.read())\n",
    "        encoders.encode_base64(att)\n",
    "        # adicionar o cabeçalho no tipo do anexo do email\n",
    "        att.add_header(\"Content-Disposition\", f'attachment; filename = Curriculun_Ricardo_Spicka_2023.pdf')\n",
    "        # fechar o arquivo\n",
    "        attchment.close()\n",
    "        # colocar o anexo no corpo do email\n",
    "        email_msg.attach(att)\n",
    "        # Enviando o email\n",
    "        s.sendmail(email_msg['From'], email_msg['To'], email_msg.as_string())\n",
    "        # Após enviar fechar o servidor\n",
    "        print('Email para: ' + nomeDest + \" - \" + empresaDest + \" - \" + emailDest + ' enviado com sucesso')"
   ]
  },
  {
   "cell_type": "code",
   "execution_count": 4,
   "metadata": {},
   "outputs": [
    {
     "data": {
      "text/plain": [
       "(221,\n",
       " b'2.0.0 closing connection g7-20020a9d6c47000000b006a64043ed69sm7868133otq.56 - gsmtp')"
      ]
     },
     "execution_count": 4,
     "metadata": {},
     "output_type": "execute_result"
    }
   ],
   "source": [
    "s.quit()"
   ]
  }
 ],
 "metadata": {
  "kernelspec": {
   "display_name": "Python 3 (ipykernel)",
   "language": "python",
   "name": "python3"
  },
  "language_info": {
   "codemirror_mode": {
    "name": "ipython",
    "version": 3
   },
   "file_extension": ".py",
   "mimetype": "text/x-python",
   "name": "python",
   "nbconvert_exporter": "python",
   "pygments_lexer": "ipython3",
   "version": "3.10.11"
  }
 },
 "nbformat": 4,
 "nbformat_minor": 4
}

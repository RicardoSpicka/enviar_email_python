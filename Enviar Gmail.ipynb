{
 "cells": [
  {
   "cell_type": "code",
   "execution_count": 81,
   "metadata": {},
   "outputs": [],
   "source": [
    "#importar bibliotecas\n",
    "import smtplib\n",
    "import email.message\n",
    "import csv\n",
    "# Trabalhando com mimetypes\n",
    "import mimetypes\n",
    "\n",
    "# Modulos para manipulação de email\n",
    "import email\n",
    "import email.mime.application"
   ]
  },
  {
   "cell_type": "code",
   "execution_count": 82,
   "metadata": {},
   "outputs": [
    {
     "name": "stdout",
     "output_type": "stream",
     "text": [
      "Nome: Ricardo Spicka\n",
      "Emil:  ricco.spicka@gmail.com\n"
     ]
    }
   ],
   "source": [
    "with open(\"emails.csv\",\"r\") as arquivo:\n",
    "    arquivo_csv = csv.reader(arquivo, delimiter=\",\")\n",
    "    for i, linha in enumerate(arquivo_csv):     \n",
    "        nomeDest = linha[0]\n",
    "        empresaDest = linha[1]\n",
    "        emailDest = linha[2]\n",
    "        print(\"Nome: \" + nomeDest)\n",
    "        print(\"Emil: \" + emailDest)"
   ]
  },
  {
   "cell_type": "code",
   "execution_count": 83,
   "metadata": {},
   "outputs": [],
   "source": [
    "\n",
    "\n",
    "def enviar_email():  \n",
    "    body = \"Olá, \" + nomeDest +  \"\"\"\n",
    "    <br><br>Eu espero que este e-mail encontre você bem. Eu estou entrando em contato hoje para expressar meu interesse em trabalhar na sua empresa e explorar possíveis oportunidades de emprego. <br><br> \n",
    "    \n",
    "    Sou formado em Analise e Desenvolvimento de Sistemas (Faculdades Anhanguera - 2020) e Engenharia da Computação (UNIVESP - 2022).\n",
    "    Tenho 8 anos de experiência como Suporte HelpDesk e Analista de Sistemas (Supermercado Enxuto Ltda.)\n",
    "    Estou fazendo curso de Formação em Tecnologia - Desenvolvedor Web FullStack na DNC.<br><br>\n",
    "    \n",
    "    Eu estou muito animado com a possibilidade de fazer parte da equipe\n",
    "    \"\"\" + empresaDest + \"\"\", e acredito que minhas habilidades e experiências podem agregar valor significativo à empresa. Se possível, eu adoraria agendar uma conversa ou entrevista para discutir quaisquer oportunidades em potencial que você possa ter.<br><br>\n",
    "    \n",
    "    Meu Linkedin é <a href=\"https://www.linkedin.com/in/ricardo-spicka-b79049160/\"> https://www.linkedin.com/in/ricardo-spicka </a><br>\n",
    "    Aqui tem também meu GitHub com alguns projetos realizados além de tarefas e desafios do curso de Dev FullStack que estou realizando. <a href=\"https://github.com/RicardoSpicka?tab=repositories\"> https://github.com/RicardoSpicka </a><br>\n",
    "    Segue anexo meu Curriculum Vitae.<br><br>\n",
    "    Muito obrigado pela sua consideração e estou ansioso para ouvir de você em breve. <br>\n",
    "    Atenciosamente, <br>\n",
    "    Ricardo Spicka\n",
    "    \"\"\"\n",
    "\n",
    "    \n",
    "\n",
    "\n",
    "    msg = email.mime.Multipart.MIMEMultipart()\n",
    "    msg['Subject'] = \"Oportunidade de Emprego\"\n",
    "    msg['From'] = 'ricco.spicka@gmail.com'\n",
    "    msg['To'] = emailDest\n",
    "    password = 'fslnooktwwklhfid' \n",
    "\n",
    "    msg.add_header('Content-Type', 'text/html')\n",
    "    msg.attach(body)\n",
    "\n",
    "    # Anexando o PDF\n",
    "    pdfname='E://OneDrive/Documentos/Curriculuns/Curriculun Ricardo Spicka - 2023.pdf'\n",
    "    fp=open(pdfname,'rb')\n",
    "    anexo = email.mime.application.MIMEApplication(fp.read(),_subtype=\"pdf\")\n",
    "    fp.close()\n",
    "    anexo.add_header('Content-Disposition','attachment',filename=pdfname)\n",
    "    msg.attach(anexo)\n",
    "\n",
    "    s = smtplib.SMTP('smtp.gmail.com: 587')\n",
    "    s.starttls()\n",
    "    # Login Credentials for sending the mail\n",
    "    s.login(msg['From'], password)\n",
    "    s.sendmail(msg['From'], [msg['To']], msg.as_string().encode('utf-8'))\n",
    "    print('Email enviado')"
   ]
  },
  {
   "cell_type": "code",
   "execution_count": 84,
   "metadata": {},
   "outputs": [
    {
     "name": "stdout",
     "output_type": "stream",
     "text": [
      "Olá, Ricardo Spicka\n",
      "    <br><br>Eu espero que este e-mail encontre você bem. Eu estou entrando em contato hoje para expressar meu interesse em trabalhar na sua empresa e explorar possíveis oportunidades de emprego. <br><br> \n",
      "    \n",
      "    Sou formado em Analise e Desenvolvimento de Sistemas (Faculdades Anhanguera - 2020) e Engenharia da Computação (UNIVESP - 2022).\n",
      "    Tenho 8 anos de experiência como Suporte HelpDesk e Analista de Sistemas (Supermercado Enxuto Ltda.)\n",
      "    Estou fazendo curso de Formação em Tecnologia - Desenvolvedor Web FullStack na DNC.<br><br>\n",
      "    \n",
      "    Eu estou muito animado com a possibilidade de fazer parte da equipe\n",
      "     da RiccoWeb, e acredito que minhas habilidades e experiências podem agregar valor significativo à empresa. Se possível, eu adoraria agendar uma conversa ou entrevista para discutir quaisquer oportunidades em potencial que você possa ter.<br><br>\n",
      "    \n",
      "    Meu Linkedin é <a href=\"https://www.linkedin.com/in/ricardo-spicka-b79049160/\"> https://www.linkedin.com/in/ricardo-spicka </a><br>\n",
      "    Aqui tem também meu GitHub com alguns projetos realizados além de tarefas e desafios do curso de Dev FullStack que estou realizando. <a href=\"https://github.com/RicardoSpicka?tab=repositories\"> https://github.com/RicardoSpicka </a><br>\n",
      "    Segue anexo meu Curriculum Vitae.<br><br>\n",
      "    Muito obrigado pela sua consideração e estou ansioso para ouvir de você em breve. <br>\n",
      "    Atenciosamente, <br>\n",
      "    Ricardo Spicka\n",
      "    \n"
     ]
    },
    {
     "ename": "TypeError",
     "evalue": "Attach is not valid on a message with a non-multipart payload",
     "output_type": "error",
     "traceback": [
      "\u001b[1;31m---------------------------------------------------------------------------\u001b[0m",
      "\u001b[1;31mAttributeError\u001b[0m                            Traceback (most recent call last)",
      "File \u001b[1;32mC:\\Program Files\\WindowsApps\\PythonSoftwareFoundation.Python.3.10_3.10.3056.0_x64__qbz5n2kfra8p0\\lib\\email\\message.py:208\u001b[0m, in \u001b[0;36mMessage.attach\u001b[1;34m(self, payload)\u001b[0m\n\u001b[0;32m    207\u001b[0m \u001b[39mtry\u001b[39;00m:\n\u001b[1;32m--> 208\u001b[0m     \u001b[39mself\u001b[39;49m\u001b[39m.\u001b[39;49m_payload\u001b[39m.\u001b[39;49mappend(payload)\n\u001b[0;32m    209\u001b[0m \u001b[39mexcept\u001b[39;00m \u001b[39mAttributeError\u001b[39;00m:\n",
      "\u001b[1;31mAttributeError\u001b[0m: 'str' object has no attribute 'append'",
      "\nDuring handling of the above exception, another exception occurred:\n",
      "\u001b[1;31mTypeError\u001b[0m                                 Traceback (most recent call last)",
      "Cell \u001b[1;32mIn[84], line 1\u001b[0m\n\u001b[1;32m----> 1\u001b[0m enviar_email()\n",
      "Cell \u001b[1;32mIn[83], line 37\u001b[0m, in \u001b[0;36menviar_email\u001b[1;34m()\u001b[0m\n\u001b[0;32m     35\u001b[0m fp\u001b[39m.\u001b[39mclose()\n\u001b[0;32m     36\u001b[0m anexo\u001b[39m.\u001b[39madd_header(\u001b[39m'\u001b[39m\u001b[39mContent-Disposition\u001b[39m\u001b[39m'\u001b[39m,\u001b[39m'\u001b[39m\u001b[39mattachment\u001b[39m\u001b[39m'\u001b[39m,filename\u001b[39m=\u001b[39mpdfname)\n\u001b[1;32m---> 37\u001b[0m msg\u001b[39m.\u001b[39;49mattach(anexo)\n\u001b[0;32m     39\u001b[0m s \u001b[39m=\u001b[39m smtplib\u001b[39m.\u001b[39mSMTP(\u001b[39m'\u001b[39m\u001b[39msmtp.gmail.com: 587\u001b[39m\u001b[39m'\u001b[39m)\n\u001b[0;32m     40\u001b[0m s\u001b[39m.\u001b[39mstarttls()\n",
      "File \u001b[1;32mC:\\Program Files\\WindowsApps\\PythonSoftwareFoundation.Python.3.10_3.10.3056.0_x64__qbz5n2kfra8p0\\lib\\email\\message.py:210\u001b[0m, in \u001b[0;36mMessage.attach\u001b[1;34m(self, payload)\u001b[0m\n\u001b[0;32m    208\u001b[0m     \u001b[39mself\u001b[39m\u001b[39m.\u001b[39m_payload\u001b[39m.\u001b[39mappend(payload)\n\u001b[0;32m    209\u001b[0m \u001b[39mexcept\u001b[39;00m \u001b[39mAttributeError\u001b[39;00m:\n\u001b[1;32m--> 210\u001b[0m     \u001b[39mraise\u001b[39;00m \u001b[39mTypeError\u001b[39;00m(\u001b[39m\"\u001b[39m\u001b[39mAttach is not valid on a message with a\u001b[39m\u001b[39m\"\u001b[39m\n\u001b[0;32m    211\u001b[0m                     \u001b[39m\"\u001b[39m\u001b[39m non-multipart payload\u001b[39m\u001b[39m\"\u001b[39m)\n",
      "\u001b[1;31mTypeError\u001b[0m: Attach is not valid on a message with a non-multipart payload"
     ]
    }
   ],
   "source": [
    "enviar_email()"
   ]
  }
 ],
 "metadata": {
  "kernelspec": {
   "display_name": "Python 3 (ipykernel)",
   "language": "python",
   "name": "python3"
  },
  "language_info": {
   "codemirror_mode": {
    "name": "ipython",
    "version": 3
   },
   "file_extension": ".py",
   "mimetype": "text/x-python",
   "name": "python",
   "nbconvert_exporter": "python",
   "pygments_lexer": "ipython3",
   "version": "3.10.11"
  }
 },
 "nbformat": 4,
 "nbformat_minor": 4
}

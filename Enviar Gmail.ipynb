{
 "cells": [
  {
   "cell_type": "code",
   "execution_count": 9,
   "metadata": {},
   "outputs": [],
   "source": [
    "import smtplib\n",
    "# Trabalhando com mimetypes\n",
    "from email.mime.multipart import MIMEMultipart\n",
    "from email.mime.text import MIMEText\n",
    "from email.mime.base import MIMEBase\n",
    "from email import encoders\n",
    "import csv"
   ]
  },
  {
   "cell_type": "code",
   "execution_count": 10,
   "metadata": {},
   "outputs": [
    {
     "data": {
      "text/plain": [
       "(235, b'2.7.0 Accepted')"
      ]
     },
     "execution_count": 10,
     "metadata": {},
     "output_type": "execute_result"
    }
   ],
   "source": [
    "# Startar o servidor\n",
    "host=\"smtp.gmail.com\"\n",
    "port=\"587\"\n",
    "login=\"ricco.spicka@gmail.com\"\n",
    "senha=\"ndvqaerkwfurxyuw\"\n",
    "\n",
    "s = smtplib.SMTP(host, port)\n",
    "s.ehlo()\n",
    "s.starttls()\n",
    "s.login(login, senha)"
   ]
  },
  {
   "cell_type": "code",
   "execution_count": 11,
   "metadata": {},
   "outputs": [
    {
     "name": "stdout",
     "output_type": "stream",
     "text": [
      "Email para: EU -  Ricco -  ricco.spicka@gmail.com enviado com sucesso\n",
      "Email para: DENISE -  Denise -  denise.spicka@gmail.com enviado com sucesso\n",
      "Email para: EMPRESAS -  da Riclan -  sac@riclan.com.br enviado com sucesso\n",
      "Email para: EMPRESAS -  da Riclan -  rh@riclan.com.br enviado com sucesso\n",
      "Email para: EMPRESAS -  da Riclan -  recursoshumanos@riclan.com.br enviado com sucesso\n",
      "Email para: EMPRESAS -  da Riclan -  selecao@riclan.com.br enviado com sucesso\n",
      "Email para: EMPRESAS -  da Tubopartes -  cobel@escritoriocobel.com.br enviado com sucesso\n",
      "Email para: EMPRESAS -  da Akdeniz Chemson -  marilia.ciaramello@akdenizchemson.com enviado com sucesso\n",
      "Email para: EMPRESAS -  da AskChemicals -  jobs@ask-chemicals.com enviado com sucesso\n",
      "Email para: EMPRESAS -  da AskChemicals -  alexandre.zanfelice@ask-chemicals.com enviado com sucesso\n",
      "Email para: EMPRESAS -  da AskChemicals -  lucimara.santana@ask-chemicals.com enviado com sucesso\n",
      "Email para: EMPRESAS -  da AskChemicals -  rh.brazil@ask-chemicals.com enviado com sucesso\n",
      "Email para: EMPRESAS -  da Arkema -  contato.brasil@arkema.com enviado com sucesso\n",
      "Email para: EMPRESAS -  da Arkema -  edlaine.mengardo@arkema.com enviado com sucesso\n",
      "Email para: EMPRESAS -  da Trebol -  azangerolamo@gtrebol.com enviado com sucesso\n",
      "Email para: EMPRESAS -  da Trebol -  bvelazquez@gtrebol.com enviado com sucesso\n",
      "Email para: SUPERMERCADOS -  do Assa&iacute; -  dpo.assai@assai.com.br enviado com sucesso\n",
      "Email para: SUPERMERCADOS -  do Paulist&atilde;o Atacdista -  atendimento@paulistaoatacadista.com.br enviado com sucesso\n",
      "Email para: SUPERMERCADOS -  do Atacad&atilde;o -  faleconosco@atacadao.com.br enviado com sucesso\n",
      "Email para: SUPERMERCADOS -  do Spani -  faleconosco@spani.com.br enviado com sucesso\n",
      "Email para: SUPERMERCADOS -  do Spani -  rioclaro@spani.com.br enviado com sucesso\n",
      "Email para: SUPERMERCADOS -  do Spani -  fiscal.marcio@spani.com.br enviado com sucesso\n",
      "Email para: LOJAS -  Shopping da Utilidade -  financeiro@shoppingdautilidadesbo.com.br enviado com sucesso\n",
      "Email para: LOJAS -  Shopping da Utilidade -  rh@shoppingdautilidadesbo.com.br enviado com sucesso\n",
      "Email para: LOJAS -  Shopping da Utilidade -  recursoshumanos@shoppingdautilidadesbo.com.br enviado com sucesso\n",
      "Email para: LOJAS -  Shopping da Utilidade -  selecao@shoppingdautilidadesbo.com.br enviado com sucesso\n",
      "Email para: ESCOLAS -  do Claretiano -  secretaria@claretianorc.com.br enviado com sucesso\n",
      "Email para: ESCOLAS -  do Claretiano -  sangelozadra@claretiano.edu.br enviado com sucesso\n",
      "Email para: ESCOLAS -  do Claretiano -  marketing@claretianorc.com.br enviado com sucesso\n",
      "Email para: ESCOLAS -  do Claretiano -  rh@claretianorc.com.br enviado com sucesso\n",
      "Email para: ESCOLAS -  do Claretiano -  selecao@claretianorc.com.br enviado com sucesso\n",
      "Email para: ESCOLAS -  do Dagama -  dagama@colegiodagama.com.br enviado com sucesso\n",
      "Email para: ESCOLAS -  do Dagama -  isler.gilvania@hotmail.com enviado com sucesso\n",
      "Email para: ESCOLAS -  do Col&eacute;gio Adventista -  rioclaro.sec@ucb.org.br enviado com sucesso\n",
      "Email para: ESCOLAS -  do Col&eacute;gio Adventista -  rioclaro@apac.org.br enviado com sucesso\n",
      "Email para: ESCOLAS -  do Col&eacute;gio Adventista -  william.soares@apac.org.br enviado com sucesso\n",
      "Email para: ESCOLAS -  do Objetivo -  contato@objetivorc.com.br enviado com sucesso\n",
      "Email para: ESCOLAS -  do Objetivo -  eliana.catae@objetivorc.com.br enviado com sucesso\n",
      "Email para: ESCOLAS -  da Unip -  contato@objetivorc.com.br enviado com sucesso\n",
      "Email para: ESCOLAS -  da Anhanguera -  ddi@kroton.com.br enviado com sucesso\n",
      "Email para: ESCOLAS -  da Anhanguera -  presidente@unianhanguera.edu.br enviado com sucesso\n",
      "Email para: ESCOLAS -  da Anhanguera -  taciane.fardin@kroton.com.br enviado com sucesso\n",
      "Email para: ESCOLAS -  da Col&eacute;gio Nazareno -  colegionazarenorc@gmail.com enviado com sucesso\n",
      "Email para: ESCOLAS -  da Col&eacute;gio Nazareno -  tesouraria@escolanazarena.com.br enviado com sucesso\n",
      "Email para: ESCOLAS -  do Dom Bosco -  colegio@domboscorc.com.br enviado com sucesso\n",
      "Email para: ESCOLAS -  do Col&eacute;gio Adventista -  rioclaro.sec@ucb.org.br enviado com sucesso\n",
      "Email para: ESCOLAS -  do Col&eacute;gio Alem -  colegioalem@gmail.com enviado com sucesso\n",
      "Email para: ESCOLAS -  do Koelle -  colegiokoelle@colegiokoelle.com.br enviado com sucesso\n",
      "Email para: ESCOLAS -  do Koelle -  financeiro@colegiokoelle.com.br enviado com sucesso\n",
      "Email para: ESCOLAS -  do Koelle -  rh@colegiokoelle.com.br enviado com sucesso\n",
      "Email para: ESCOLAS -  do Koelle -  recursoshumanos@colegiokoelle.com.br enviado com sucesso\n",
      "Email para: ESCOLAS -  do Koelle -  selecao@colegiokoelle.com.br enviado com sucesso\n",
      "Email para: ESCOLAS -  do Pur&iacute;ssimo -  secretaria.purissimo@redeicm.org.br enviado com sucesso\n",
      "Email para: TECNOLOGIA -   Rhodes -  rosepaes@uol.com.br enviado com sucesso\n"
     ]
    }
   ],
   "source": [
    "with open(\"emails.csv\",\"r\") as arquivo:\n",
    "    arquivo_csv = csv.reader(arquivo, delimiter=\",\")\n",
    "    for i, linha in enumerate(arquivo_csv):     \n",
    "        nomeDest = linha[0]\n",
    "        empresaDest = linha[1]\n",
    "        emailDest = linha[2]\n",
    "\n",
    "        # Construindo a mensagem\n",
    "        corpo = \"\"\"Aos cuidados do Depto RH / Gerencia de TI<br> <br>Olá, como vai?. Espero que bem.<br><br>\n",
    "        \n",
    "            Escrevo para declarar meu interesse em fazer parte da equipe de tecnologia \"\"\" + empresaDest + \"\"\".<br><br>  \n",
    "\n",
    "            Sou formado em Tecnologia de Análise e Desenvolvimento de Sistemas (Faculdades Anhanguera - 2020) e Bacharel em Engenharia da Computação (UNIVESP - 2022). Tenho mais de 15 anos atuando na área de tecnologia com Hardware, HelpDesk, Análise de Sistemas, Desenvolvimento de Sistemas e Desenvolvimento  Web e consigo transitar facilmente nessas áreas de atuação.<br><br>\n",
    "\n",
    "            Estou fazendo curso de Formação em Tecnologia - Desenvolvedor Web Full Stack na DNC e, no momento, estou concluindo o módulo de Front-End, já conseguindo fazer bons projetos. Estou sempre estudando e aprendendo, sempre me atualizando. Tenho muita facilidade de aprender e me adaptar. Não temo novos desafios. <br><br>\n",
    "            Se possível, eu adoraria agendar uma conversa ou entrevista para discutir quaisquer oportunidades em potencial que você possa ter.<br><br>\n",
    "            \n",
    "            Meu Linkedin é <a href=\"https://www.linkedin.com/in/ricardo-spicka-b79049160/\"> https://www.linkedin.com/in/ricardo-spicka </a><br>\n",
    "            Aqui tem também meu GitHub com alguns projetos realizados, além das tarefas e desafios do curso de Dev FullStack que estou realizando. <a href=\"https://github.com/RicardoSpicka?tab=repositories\"> https://github.com/RicardoSpicka </a><br><br>\n",
    "            Segue anexo meu Curriculum Vitae.<br><br>\n",
    "            Agradeço antencipadamente. <br>\n",
    "            Atenciosamente, <br>\n",
    "            Ricardo Spicka\n",
    "            \"\"\"\n",
    "        email_msg = MIMEMultipart()\n",
    "        email_msg['From'] = login\n",
    "        email_msg['To'] = emailDest\n",
    "        email_msg['Subject'] = \"Oportunidade de Emprego Área de Tecnologia\"\n",
    "        email_msg.attach(MIMEText(corpo, 'html'))\n",
    "        # Abrir o arquivo em modo leitura Binário\n",
    "        caminho = \"E://OneDrive/Documentos/Curriculuns/Curriculun_Ricardo_Spicka_2023.pdf\"\n",
    "        attchment = open(caminho, \"rb\")\n",
    "        # Ler o arquivo no modo binário e codificar para base 64 bits\n",
    "        att = MIMEBase('application', 'octet-stream')\n",
    "        att.set_payload(attchment.read())\n",
    "        encoders.encode_base64(att)\n",
    "        # adicionar o cabeçalho no tipo do anexo do email\n",
    "        att.add_header(\"Content-Disposition\", f'attachment; filename = Curriculun_Ricardo_Spicka_2023.pdf')\n",
    "        # fechar o arquivo\n",
    "        attchment.close()\n",
    "        # colocar o anexo no corpo do email\n",
    "        email_msg.attach(att)\n",
    "        # Enviando o email\n",
    "        s.sendmail(email_msg['From'], email_msg['To'], email_msg.as_string())\n",
    "        # Após enviar fechar o servidor\n",
    "        print('Email para: ' + nomeDest + \" - \" + empresaDest + \" - \" + emailDest + ' enviado com sucesso')"
   ]
  },
  {
   "cell_type": "code",
   "execution_count": 12,
   "metadata": {},
   "outputs": [
    {
     "data": {
      "text/plain": [
       "(221,\n",
       " b'2.0.0 closing connection v6-20020a056830140600b006a42b16ec7asm480161otp.38 - gsmtp')"
      ]
     },
     "execution_count": 12,
     "metadata": {},
     "output_type": "execute_result"
    }
   ],
   "source": [
    "s.quit()"
   ]
  }
 ],
 "metadata": {
  "kernelspec": {
   "display_name": "Python 3 (ipykernel)",
   "language": "python",
   "name": "python3"
  },
  "language_info": {
   "codemirror_mode": {
    "name": "ipython",
    "version": 3
   },
   "file_extension": ".py",
   "mimetype": "text/x-python",
   "name": "python",
   "nbconvert_exporter": "python",
   "pygments_lexer": "ipython3",
   "version": "3.10.11"
  }
 },
 "nbformat": 4,
 "nbformat_minor": 4
}

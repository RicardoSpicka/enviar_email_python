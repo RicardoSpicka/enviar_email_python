{
 "cells": [
  {
   "cell_type": "code",
   "execution_count": 5,
   "metadata": {},
   "outputs": [],
   "source": [
    "import smtplib\n",
    "# Trabalhando com mimetypes\n",
    "from email.mime.multipart import MIMEMultipart\n",
    "from email.mime.text import MIMEText\n",
    "from email.mime.base import MIMEBase\n",
    "from email import encoders"
   ]
  },
  {
   "cell_type": "code",
   "execution_count": 6,
   "metadata": {},
   "outputs": [
    {
     "name": "stdout",
     "output_type": "stream",
     "text": [
      "Denise\n",
      " da Denise Spicka Fonoaudiologia\n",
      " denise.spicka@gmail.com\n"
     ]
    }
   ],
   "source": [
    "import csv\n",
    "with open(\"emails.csv\",\"r\") as arquivo:\n",
    "    arquivo_csv = csv.reader(arquivo, delimiter=\",\")\n",
    "    for i, linha in enumerate(arquivo_csv):     \n",
    "        nomeDest = linha[0]\n",
    "        empresaDest = linha[1]\n",
    "        emailDest = linha[2]\n",
    "        print(nomeDest)\n",
    "        print(empresaDest)\n",
    "        print(emailDest)"
   ]
  },
  {
   "cell_type": "code",
   "execution_count": 7,
   "metadata": {},
   "outputs": [
    {
     "data": {
      "text/plain": [
       "(235, b'2.7.0 Accepted')"
      ]
     },
     "execution_count": 7,
     "metadata": {},
     "output_type": "execute_result"
    }
   ],
   "source": [
    "# Startar o servidor\n",
    "host=\"smtp.gmail.com\"\n",
    "port=\"587\"\n",
    "login=\"ricco.spicka@gmail.com\"\n",
    "senha=\"fslnooktwwklhfid\"\n",
    "\n",
    "s = smtplib.SMTP(host, port)\n",
    "s.ehlo()\n",
    "s.starttls()\n",
    "s.login(login, senha)"
   ]
  },
  {
   "cell_type": "code",
   "execution_count": 8,
   "metadata": {},
   "outputs": [],
   "source": [
    "# Construindo a mensagem\n",
    "corpo = \"\"\"Olá, \"\"\" + nomeDest +  \"\"\"\n",
    "    <br><br>Eu espero que este e-mail encontre você bem. Eu estou entrando em contato hoje para expressar meu interesse em trabalhar na sua empresa e explorar possíveis oportunidades de emprego. <br><br> \n",
    "    \n",
    "    Sou formado em Analise e Desenvolvimento de Sistemas (Faculdades Anhanguera - 2020) e Engenharia da Computação (UNIVESP - 2022).\n",
    "    Tenho 8 anos de experiência como Suporte HelpDesk e Analista de Sistemas (Supermercado Enxuto Ltda.)\n",
    "    Estou fazendo curso de Formação em Tecnologia - Desenvolvedor Web FullStack na DNC.<br><br>\n",
    "    \n",
    "    Eu estou muito animado com a possibilidade de fazer parte da equipe\n",
    "    \"\"\" + empresaDest + \"\"\", e acredito que minhas habilidades e experiências podem agregar valor significativo à empresa. Se possível, eu adoraria agendar uma conversa ou entrevista para discutir quaisquer oportunidades em potencial que você possa ter.<br><br>\n",
    "    \n",
    "    Meu Linkedin é <a href=\"https://www.linkedin.com/in/ricardo-spicka-b79049160/\"> https://www.linkedin.com/in/ricardo-spicka </a><br>\n",
    "    Aqui tem também meu GitHub com alguns projetos realizados além de tarefas e desafios do curso de Dev FullStack que estou realizando. <a href=\"https://github.com/RicardoSpicka?tab=repositories\"> https://github.com/RicardoSpicka </a><br>\n",
    "    Segue anexo meu Curriculum Vitae.<br><br>\n",
    "    Muito obrigado pela sua consideração e estou ansioso para ouvir de você em breve. <br>\n",
    "    Atenciosamente, <br>\n",
    "    Ricardo Spicka\n",
    "    \"\"\""
   ]
  },
  {
   "cell_type": "code",
   "execution_count": 9,
   "metadata": {},
   "outputs": [],
   "source": [
    "# Cabeçalho da mensagem do email\n",
    "email_msg = MIMEMultipart()\n",
    "email_msg['From'] = login\n",
    "email_msg['To'] = emailDest\n",
    "email_msg['Subject'] = \"Oportunidade de Emprego\"\n",
    "email_msg.attach(MIMEText(corpo, 'html'))"
   ]
  },
  {
   "cell_type": "code",
   "execution_count": 10,
   "metadata": {},
   "outputs": [],
   "source": [
    "# colocando um anexo\n",
    "# Abrir o arquivo em modo leitura Binário\n",
    "caminho = \"E://OneDrive/Documentos/Curriculuns/Curriculun_Ricardo_Spicka_2023.pdf\"\n",
    "attchment = open(caminho, \"rb\")\n",
    "# Ler o arquivo no modo binário e codificar para base 64 bits\n",
    "att = MIMEBase('application', 'octet-stream')\n",
    "att.set_payload(attchment.read())\n",
    "encoders.encode_base64(att)\n",
    "# adicionar o cabeçalho no tipo do anexo do email\n",
    "att.add_header(\"Content-Disposition\", f'attachment; filename = Curriculun_Ricardo_Spicka_2023.pdf')\n",
    "# fechar o arquivo\n",
    "attchment.close()\n",
    "# colocar o anexo no corpo do email\n",
    "email_msg.attach(att)"
   ]
  },
  {
   "cell_type": "code",
   "execution_count": 11,
   "metadata": {},
   "outputs": [
    {
     "name": "stdout",
     "output_type": "stream",
     "text": [
      "Email enviado\n"
     ]
    }
   ],
   "source": [
    "# Enviando o email\n",
    "s.sendmail(email_msg['From'], email_msg['To'], email_msg.as_string())\n",
    "# Após enviar fechar o servidor\n",
    "s.quit()\n",
    "\n",
    "print('Email enviado')"
   ]
  }
 ],
 "metadata": {
  "kernelspec": {
   "display_name": "Python 3 (ipykernel)",
   "language": "python",
   "name": "python3"
  },
  "language_info": {
   "codemirror_mode": {
    "name": "ipython",
    "version": 3
   },
   "file_extension": ".py",
   "mimetype": "text/x-python",
   "name": "python",
   "nbconvert_exporter": "python",
   "pygments_lexer": "ipython3",
   "version": "3.10.11"
  }
 },
 "nbformat": 4,
 "nbformat_minor": 4
}
